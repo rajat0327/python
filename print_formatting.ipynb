{
 "cells": [
  {
   "cell_type": "code",
   "execution_count": 1,
   "id": "0f8e64c3-d1ae-4782-a531-67ee64dcdb34",
   "metadata": {},
   "outputs": [
    {
     "name": "stdout",
     "output_type": "stream",
     "text": [
      "this is a string INSERTED\n"
     ]
    }
   ],
   "source": [
    "print('this is a string {}'.format('INSERTED'))"
   ]
  },
  {
   "cell_type": "code",
   "execution_count": 2,
   "id": "18c1d697-c457-4abb-98c1-c1b78e4ab34c",
   "metadata": {},
   "outputs": [
    {
     "name": "stdout",
     "output_type": "stream",
     "text": [
      "the fox brown quick\n"
     ]
    }
   ],
   "source": [
    "print('the {} {} {}'.format('fox',\"brown\",\"quick\"))"
   ]
  },
  {
   "cell_type": "code",
   "execution_count": 3,
   "id": "f0bd10cf-c80a-41f6-97e4-66e8aa16f2b8",
   "metadata": {},
   "outputs": [
    {
     "name": "stdout",
     "output_type": "stream",
     "text": [
      "the quick brown fox\n"
     ]
    }
   ],
   "source": [
    "print('the {2} {1} {0}'.format('fox',\"brown\",\"quick\"))"
   ]
  },
  {
   "cell_type": "code",
   "execution_count": 4,
   "id": "3bd074f3-3758-4cb5-a064-cbe61de178b1",
   "metadata": {},
   "outputs": [
    {
     "name": "stdout",
     "output_type": "stream",
     "text": [
      "the quick brown fox\n"
     ]
    }
   ],
   "source": [
    "print('the {q} {b} {f}'.format(f='fox',b='brown',q='quick'))"
   ]
  },
  {
   "cell_type": "code",
   "execution_count": 5,
   "id": "dc92649a-10b0-4ec6-b0b5-7a7252d7d03c",
   "metadata": {},
   "outputs": [
    {
     "name": "stdout",
     "output_type": "stream",
     "text": [
      "the fox fox fox\n"
     ]
    }
   ],
   "source": [
    "print('the {f} {f} {f}'.format(f='fox',b='brown',q='quick'))"
   ]
  },
  {
   "cell_type": "code",
   "execution_count": null,
   "id": "6da65f1f-c7a8-41df-8c30-945e951ff287",
   "metadata": {},
   "outputs": [],
   "source": []
  },
  {
   "cell_type": "code",
   "execution_count": null,
   "id": "946ef0bf-7437-4491-b7b7-1461a15b9799",
   "metadata": {},
   "outputs": [],
   "source": []
  },
  {
   "cell_type": "code",
   "execution_count": 6,
   "id": "177f0726-392c-466c-968e-d59e28f5786d",
   "metadata": {},
   "outputs": [],
   "source": [
    "result =100/777"
   ]
  },
  {
   "cell_type": "code",
   "execution_count": 7,
   "id": "4ab36618-c1ee-4f34-be54-ccbf0e219941",
   "metadata": {},
   "outputs": [
    {
     "data": {
      "text/plain": [
       "0.1287001287001287"
      ]
     },
     "execution_count": 7,
     "metadata": {},
     "output_type": "execute_result"
    }
   ],
   "source": [
    "result"
   ]
  },
  {
   "cell_type": "code",
   "execution_count": 8,
   "id": "d5c12779-3bba-4dff-94b3-fc1c8e88a512",
   "metadata": {},
   "outputs": [
    {
     "name": "stdout",
     "output_type": "stream",
     "text": [
      "the result was 0.1287001287001287\n"
     ]
    }
   ],
   "source": [
    "print(\"the result was {}\".format(result))"
   ]
  },
  {
   "cell_type": "code",
   "execution_count": 9,
   "id": "4251e00c-4e42-4ff7-a6d3-555319f948aa",
   "metadata": {},
   "outputs": [
    {
     "name": "stdout",
     "output_type": "stream",
     "text": [
      "the result was 0.1287001287001287\n"
     ]
    }
   ],
   "source": [
    "print(\"the result was {r}\".format(r=result))"
   ]
  },
  {
   "cell_type": "code",
   "execution_count": 10,
   "id": "4c0bf042-6bf2-4200-be9e-4c8916e2cc55",
   "metadata": {},
   "outputs": [
    {
     "name": "stdout",
     "output_type": "stream",
     "text": [
      "the result was 0.129\n"
     ]
    }
   ],
   "source": [
    "print(\"the result was {r:1.3f}\".format(r=result))"
   ]
  },
  {
   "cell_type": "code",
   "execution_count": 11,
   "id": "c865f61d-a17e-421e-98d7-ac5496e2436d",
   "metadata": {},
   "outputs": [
    {
     "name": "stdout",
     "output_type": "stream",
     "text": [
      "the result was 0.129\n"
     ]
    }
   ],
   "source": [
    "print(\"the result was {r:01.3f}\".format(r=result))"
   ]
  },
  {
   "cell_type": "code",
   "execution_count": 12,
   "id": "8bad456a-c5f1-461c-98ca-50632733b1ad",
   "metadata": {},
   "outputs": [
    {
     "name": "stdout",
     "output_type": "stream",
     "text": [
      "the result was      0.129\n"
     ]
    }
   ],
   "source": [
    "print(\"the result was {r:10.3f}\".format(r=result))"
   ]
  },
  {
   "cell_type": "code",
   "execution_count": 13,
   "id": "335fba96-2558-418c-a9f1-23bd1e1c4781",
   "metadata": {},
   "outputs": [
    {
     "name": "stdout",
     "output_type": "stream",
     "text": [
      "the result was    0.12870\n"
     ]
    }
   ],
   "source": [
    "print(\"the result was {r:10.5f}\".format(r=result))"
   ]
  },
  {
   "cell_type": "code",
   "execution_count": 14,
   "id": "16332bf9-b5bc-477a-aa51-ea7871dae48c",
   "metadata": {},
   "outputs": [],
   "source": [
    "result = 104.12345"
   ]
  },
  {
   "cell_type": "code",
   "execution_count": 15,
   "id": "d976e8af-29c2-424c-b1de-712af5871103",
   "metadata": {},
   "outputs": [
    {
     "name": "stdout",
     "output_type": "stream",
     "text": [
      "the result was 104.12\n"
     ]
    }
   ],
   "source": [
    "print(\"the result was {r:1.2f}\".format(r=result))"
   ]
  },
  {
   "cell_type": "code",
   "execution_count": null,
   "id": "290ae805-c0d5-4fae-8a3b-2021efcc0dc9",
   "metadata": {},
   "outputs": [],
   "source": []
  },
  {
   "cell_type": "code",
   "execution_count": null,
   "id": "e9d59378-2122-4dba-a84e-28a52d272b44",
   "metadata": {},
   "outputs": [],
   "source": []
  },
  {
   "cell_type": "code",
   "execution_count": null,
   "id": "6e752647-8cb7-4de3-a306-de18bbde21b4",
   "metadata": {},
   "outputs": [],
   "source": []
  },
  {
   "cell_type": "code",
   "execution_count": 16,
   "id": "7b4c1cae-47cc-44a6-91ab-39e688eb3138",
   "metadata": {},
   "outputs": [],
   "source": [
    "name = \"Jose\""
   ]
  },
  {
   "cell_type": "code",
   "execution_count": 17,
   "id": "5b0fe8b7-4d69-4080-841a-8142b07a29f4",
   "metadata": {},
   "outputs": [
    {
     "name": "stdout",
     "output_type": "stream",
     "text": [
      "hello, his name is Jose\n"
     ]
    }
   ],
   "source": [
    "print('hello, his name is {}'.format(name))"
   ]
  },
  {
   "cell_type": "code",
   "execution_count": 19,
   "id": "51d8e1f8-8673-4e01-adbe-8f28ab0fdf8d",
   "metadata": {},
   "outputs": [
    {
     "name": "stdout",
     "output_type": "stream",
     "text": [
      "hello, his name is Jose\n"
     ]
    }
   ],
   "source": [
    "print(f'hello, his name is {name}')"
   ]
  },
  {
   "cell_type": "code",
   "execution_count": 20,
   "id": "1c0f103a-7a05-4b2b-b3a3-de2adb385468",
   "metadata": {},
   "outputs": [],
   "source": [
    "name = \"sam\"\n",
    "age = 3"
   ]
  },
  {
   "cell_type": "code",
   "execution_count": 21,
   "id": "76d9c671-54b5-48d9-a09f-e6c9e82417e6",
   "metadata": {},
   "outputs": [
    {
     "name": "stdout",
     "output_type": "stream",
     "text": [
      "sam is 3 years old.\n"
     ]
    }
   ],
   "source": [
    "print(f'{name} is {age} years old.')"
   ]
  },
  {
   "cell_type": "code",
   "execution_count": 22,
   "id": "58838cce-bee3-45d0-ad7c-c64129bc3c25",
   "metadata": {},
   "outputs": [
    {
     "data": {
      "text/plain": [
       "104.12345"
      ]
     },
     "execution_count": 22,
     "metadata": {},
     "output_type": "execute_result"
    }
   ],
   "source": [
    "result"
   ]
  },
  {
   "cell_type": "code",
   "execution_count": 25,
   "id": "c9152956-93da-4a9e-9456-ab5debbf0b08",
   "metadata": {},
   "outputs": [
    {
     "name": "stdout",
     "output_type": "stream",
     "text": [
      "I'm going to inject something here.\n"
     ]
    }
   ],
   "source": [
    "print(\"I'm going to inject %s here.\" %'something')"
   ]
  },
  {
   "cell_type": "code",
   "execution_count": 26,
   "id": "9edfc4a3-1a1e-492f-adc3-8905330332ad",
   "metadata": {},
   "outputs": [
    {
     "name": "stdout",
     "output_type": "stream",
     "text": [
      "I'm going to inject some here, and more text here.\n"
     ]
    }
   ],
   "source": [
    "print(\"I'm going to inject %s here, and %s text here.\" %('some','more'))"
   ]
  },
  {
   "cell_type": "code",
   "execution_count": 27,
   "id": "8e328cb6-3c55-469d-a939-e024cf054d35",
   "metadata": {},
   "outputs": [
    {
     "name": "stdout",
     "output_type": "stream",
     "text": [
      "I'm going to inject some text here, and more text here.\n"
     ]
    }
   ],
   "source": [
    "x, y = 'some', 'more'\n",
    "print(\"I'm going to inject %s text here, and %s text here.\" %(x,y))"
   ]
  },
  {
   "cell_type": "code",
   "execution_count": 28,
   "id": "8bce1f63-5dd2-4373-8869-6b4a8891808d",
   "metadata": {},
   "outputs": [
    {
     "name": "stdout",
     "output_type": "stream",
     "text": [
      "He said his name was Fred.\n"
     ]
    }
   ],
   "source": [
    "print('He said his name was %s.' %'Fred')"
   ]
  },
  {
   "cell_type": "code",
   "execution_count": 29,
   "id": "a3c59416-6bf4-4f4f-81e3-93fcf3dbd306",
   "metadata": {},
   "outputs": [
    {
     "name": "stdout",
     "output_type": "stream",
     "text": [
      "He said his name was 'Fred'.\n"
     ]
    }
   ],
   "source": [
    "print('He said his name was %r.' %'Fred')"
   ]
  },
  {
   "cell_type": "code",
   "execution_count": 30,
   "id": "71ca7064-123d-46df-bd35-1f40b2293bac",
   "metadata": {},
   "outputs": [
    {
     "name": "stdout",
     "output_type": "stream",
     "text": [
      "I once caught a fish this \tbig.\n"
     ]
    }
   ],
   "source": [
    "print('I once caught a fish %s.' %\"this \\tbig\")"
   ]
  },
  {
   "cell_type": "code",
   "execution_count": 31,
   "id": "cafa88cd-aff0-47bd-a9a3-7cd2e09eef54",
   "metadata": {},
   "outputs": [
    {
     "name": "stdout",
     "output_type": "stream",
     "text": [
      "I once caught a fish 'this \\tbig'.\n"
     ]
    }
   ],
   "source": [
    "print('I once caught a fish %r.' %\"this \\tbig\")"
   ]
  },
  {
   "cell_type": "code",
   "execution_count": 32,
   "id": "4f534a71-37c5-41df-b9b5-b8ff2707acd0",
   "metadata": {},
   "outputs": [
    {
     "name": "stdout",
     "output_type": "stream",
     "text": [
      "i wrote 3.75 programs today.\n"
     ]
    }
   ],
   "source": [
    "print('i wrote %s programs today.' %3.75)"
   ]
  },
  {
   "cell_type": "code",
   "execution_count": 34,
   "id": "ffa49172-eb28-4fe2-b7f4-975fa3eab39c",
   "metadata": {},
   "outputs": [
    {
     "name": "stdout",
     "output_type": "stream",
     "text": [
      "i wrote 3 programs today.\n"
     ]
    }
   ],
   "source": [
    "print('i wrote %d programs today.' %3.74)"
   ]
  },
  {
   "cell_type": "code",
   "execution_count": 35,
   "id": "ceaf8d91-5a5d-4171-a2de-db4c26d83151",
   "metadata": {},
   "outputs": [
    {
     "name": "stdout",
     "output_type": "stream",
     "text": [
      "Floating point numbers: 13.14\n"
     ]
    }
   ],
   "source": [
    "print('Floating point numbers: %5.2f' %(13.144))"
   ]
  },
  {
   "cell_type": "code",
   "execution_count": 42,
   "id": "cd22085c-ee3f-4672-8c47-e7ae0d04a4c2",
   "metadata": {},
   "outputs": [
    {
     "name": "stdout",
     "output_type": "stream",
     "text": [
      "Floating point numbers:      13.14\n"
     ]
    }
   ],
   "source": [
    "print('Floating point numbers: %10.2f' %(13.144))"
   ]
  },
  {
   "cell_type": "code",
   "execution_count": 43,
   "id": "b09689fa-0c25-42a3-a65a-82a609bbafa5",
   "metadata": {},
   "outputs": [
    {
     "name": "stdout",
     "output_type": "stream",
     "text": [
      "Floating point numbers: 13\n"
     ]
    }
   ],
   "source": [
    "print('Floating point numbers: %1.0f' %(13.144))"
   ]
  },
  {
   "cell_type": "code",
   "execution_count": 44,
   "id": "28604aed-d8e1-4d45-9967-7cc82f3bc17e",
   "metadata": {},
   "outputs": [
    {
     "name": "stdout",
     "output_type": "stream",
     "text": [
      "Floating point numbers: 13.14400\n"
     ]
    }
   ],
   "source": [
    "print('Floating point numbers: %1.5f' %(13.144))"
   ]
  },
  {
   "cell_type": "code",
   "execution_count": 41,
   "id": "c063024e-6979-402a-b578-ee17108994a9",
   "metadata": {},
   "outputs": [
    {
     "name": "stdout",
     "output_type": "stream",
     "text": [
      "Floating point numbers: 13.1\n"
     ]
    }
   ],
   "source": [
    "print('Floating point numbers: %1.1f' %(13.144))"
   ]
  },
  {
   "cell_type": "code",
   "execution_count": 46,
   "id": "5b6c9a10-ca48-422f-9d30-9e59b30e4664",
   "metadata": {},
   "outputs": [
    {
     "name": "stdout",
     "output_type": "stream",
     "text": [
      "First: hi, second:  3.14, third: 'bye!'\n"
     ]
    }
   ],
   "source": [
    "print('First: %s, second: %5.2f, third: %r' %('hi', 3.1415,'bye!'))"
   ]
  },
  {
   "cell_type": "code",
   "execution_count": 47,
   "id": "3c497802-7a13-4576-933c-ef2a94c3113f",
   "metadata": {},
   "outputs": [
    {
     "name": "stdout",
     "output_type": "stream",
     "text": [
      "this is a string with an insert\n"
     ]
    }
   ],
   "source": [
    "print('this is a string with an {}'.format('insert'))"
   ]
  },
  {
   "cell_type": "code",
   "execution_count": 48,
   "id": "5c6bb0ff-b84a-4c2e-9434-7f61b0a13139",
   "metadata": {},
   "outputs": [
    {
     "name": "stdout",
     "output_type": "stream",
     "text": [
      "first object 1, second object:two, third object:12.3\n"
     ]
    }
   ],
   "source": [
    "print('first object {a}, second object:{b}, third object:{c}'.format(a=1,b='two',c=12.3))"
   ]
  },
  {
   "cell_type": "code",
   "execution_count": 49,
   "id": "2e3bb2ce-ef56-45e3-87ac-5c2aba0adda1",
   "metadata": {},
   "outputs": [
    {
     "name": "stdout",
     "output_type": "stream",
     "text": [
      "A penny saved is a penny earned.\n"
     ]
    }
   ],
   "source": [
    "print('A %s saved is a %s earned.' %('penny','penny'))"
   ]
  },
  {
   "cell_type": "code",
   "execution_count": 50,
   "id": "a25f97b3-f68f-4ee7-b02f-3924286d0126",
   "metadata": {},
   "outputs": [
    {
     "name": "stdout",
     "output_type": "stream",
     "text": [
      "A penny saved is a penny earned.\n"
     ]
    }
   ],
   "source": [
    "print('A {p} saved is a {p} earned.'.format(p='penny'))"
   ]
  },
  {
   "cell_type": "code",
   "execution_count": 54,
   "id": "ae591c71-a44f-4c20-a0e3-e3bd109ea983",
   "metadata": {},
   "outputs": [
    {
     "name": "stdout",
     "output_type": "stream",
     "text": [
      "left     |  center  |    right\n",
      "11       |    12    |       13\n",
      "11====== | ---12--- | ......13\n"
     ]
    }
   ],
   "source": [
    "print('{0:<8} | {1:^8} | {2:>8}'.format('left','center','right'))\n",
    "print('{0:<8} | {1:^8} | {2:>8}'.format(11,12,13))\n",
    "print('{0:=<8} | {1:-^8} | {2:.>8}'.format(11,12,13))"
   ]
  },
  {
   "cell_type": "code",
   "execution_count": null,
   "id": "95ff232c-85a6-4b45-8017-0e818881dc59",
   "metadata": {},
   "outputs": [],
   "source": []
  },
  {
   "cell_type": "code",
   "execution_count": null,
   "id": "a77869c3-454a-45c6-9e15-9232d3ca61ca",
   "metadata": {},
   "outputs": [],
   "source": []
  },
  {
   "cell_type": "code",
   "execution_count": null,
   "id": "792a29bc-4cad-4db8-b0e1-09113dfd865c",
   "metadata": {},
   "outputs": [],
   "source": []
  },
  {
   "cell_type": "code",
   "execution_count": null,
   "id": "74acbfc2-eab6-4fdb-996f-270b45fb8ef7",
   "metadata": {},
   "outputs": [],
   "source": []
  },
  {
   "cell_type": "code",
   "execution_count": 55,
   "id": "d88ce0be-dd3e-44fe-a80a-6a9001dc5f84",
   "metadata": {},
   "outputs": [
    {
     "name": "stdout",
     "output_type": "stream",
     "text": [
      "He said his name is fred\n"
     ]
    }
   ],
   "source": [
    "name = \"fred\"\n",
    "print(f\"He said his name is {name}\")"
   ]
  },
  {
   "cell_type": "code",
   "execution_count": 56,
   "id": "98b656f1-3c91-491f-aad2-a0439fc21016",
   "metadata": {},
   "outputs": [
    {
     "name": "stdout",
     "output_type": "stream",
     "text": [
      "he said his name is 'fred'\n"
     ]
    }
   ],
   "source": [
    "print(f\"he said his name is {name!r}\")"
   ]
  },
  {
   "cell_type": "code",
   "execution_count": 69,
   "id": "338b36ba-65d5-4a1e-a086-c133a7bc3c62",
   "metadata": {},
   "outputs": [],
   "source": [
    "num = 23.45678\n",
    "num1=2.345678"
   ]
  },
  {
   "cell_type": "code",
   "execution_count": 70,
   "id": "486e3e5b-c3b0-468c-95cb-76b1685b5aaf",
   "metadata": {},
   "outputs": [
    {
     "name": "stdout",
     "output_type": "stream",
     "text": [
      "My 10 character, four decimal number is:               23.46\n",
      "My 10 character, four decimal number is:     23.46\n",
      "My 10 character, four decimal number is:                23.5\n",
      "My 10 character, four decimal number is:      23.5\n",
      "My 10 character, four decimal number is:     2.346\n"
     ]
    }
   ],
   "source": [
    "print(\"My 10 character, four decimal number is:{0:20.4}\".format(num))\n",
    "print(\"My 10 character, four decimal number is:{0:10.4}\".format(num))\n",
    "print(\"My 10 character, four decimal number is:{0:20.3}\".format(num))\n",
    "print(\"My 10 character, four decimal number is:{0:10.3}\".format(num))\n",
    "print(\"My 10 character, four decimal number is:{1:10.4}\".format(num,num1))"
   ]
  },
  {
   "cell_type": "code",
   "execution_count": null,
   "id": "58ac204e-782b-4226-8d72-a95071de1502",
   "metadata": {},
   "outputs": [],
   "source": []
  }
 ],
 "metadata": {
  "kernelspec": {
   "display_name": "Python 3 (ipykernel)",
   "language": "python",
   "name": "python3"
  },
  "language_info": {
   "codemirror_mode": {
    "name": "ipython",
    "version": 3
   },
   "file_extension": ".py",
   "mimetype": "text/x-python",
   "name": "python",
   "nbconvert_exporter": "python",
   "pygments_lexer": "ipython3",
   "version": "3.13.5"
  }
 },
 "nbformat": 4,
 "nbformat_minor": 5
}
